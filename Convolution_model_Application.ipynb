{
  "cells": [
    {
      "cell_type": "markdown",
      "metadata": {
        "id": "T6HMpmlR5OG0"
      },
      "source": [
        "# Convolutional Neural Networks: Application\n",
        "\n"
      ]
    },
    {
      "cell_type": "markdown",
      "metadata": {
        "id": "coaml1xv5OG4"
      },
      "source": [
        "## Table of Contents\n",
        "\n",
        "- [1 - Packages](#1)\n",
        "    - [1.1 - Load the Data and Split the Data into Train/Test Sets](#1-1)\n",
        "- [2 - The Sequential API](#3)\n",
        "    - [2.1 - Create the Sequential Model](#3-1)\n",
        "    - [2.2 - Train and Evaluate the Model](#3-2)\n",
        "- [3 - The Functional API](#4)\n",
        "    - [3.1 - Load the SIGNS Dataset](#4-1)\n",
        "    - [3.2 - Split the Data into Train/Test Sets](#4-2)\n",
        "    - [3.3 - Forward Propagation](#4-3)\n",
        "    - [3.4 - Train the Model](#4-4)\n",
        "- [4 - History Object](#5)"
      ]
    },
    {
      "cell_type": "markdown",
      "metadata": {
        "id": "O3jkwMdY5OG4"
      },
      "source": [
        "<a name='1'></a>\n",
        "## 1 - Packages"
      ]
    },
    {
      "cell_type": "code",
      "execution_count": null,
      "metadata": {
        "id": "JRK1dpUP5OG5"
      },
      "outputs": [],
      "source": [
        "import math\n",
        "import numpy as np\n",
        "import h5py\n",
        "import matplotlib.pyplot as plt\n",
        "from matplotlib.pyplot import imread\n",
        "import scipy\n",
        "from PIL import Image\n",
        "import pandas as pd\n",
        "import tensorflow as tf\n",
        "import tensorflow.keras.layers as tfl\n",
        "from tensorflow.python.framework import ops\n",
        "from cnn_utils import *\n",
        "from test_utils import summary, comparator\n",
        "\n",
        "%matplotlib inline\n",
        "np.random.seed(1)"
      ]
    },
    {
      "cell_type": "markdown",
      "metadata": {
        "id": "2_ROTmKb5OG6"
      },
      "source": [
        "<a name='1-1'></a>\n",
        "### 1.1 - Load the Data and Split the Data into Train/Test Sets\n",
        "\n",
        "This project used the Happy House dataset, which contains images of peoples' faces, to train a ConvNet that determines whether the people in the images are smiling or not"
      ]
    },
    {
      "cell_type": "code",
      "execution_count": null,
      "metadata": {
        "id": "T3jyr33w5OG6",
        "outputId": "b1f4303f-beb5-4c80-a44e-6e242e6588ab"
      },
      "outputs": [
        {
          "name": "stdout",
          "output_type": "stream",
          "text": [
            "number of training examples = 600\n",
            "number of test examples = 150\n",
            "X_train shape: (600, 64, 64, 3)\n",
            "Y_train shape: (600, 1)\n",
            "X_test shape: (150, 64, 64, 3)\n",
            "Y_test shape: (150, 1)\n"
          ]
        }
      ],
      "source": [
        "X_train_orig, Y_train_orig, X_test_orig, Y_test_orig, classes = load_happy_dataset()\n",
        "\n",
        "# Normalize image vectors\n",
        "X_train = X_train_orig/255.\n",
        "X_test = X_test_orig/255.\n",
        "\n",
        "# Reshape\n",
        "Y_train = Y_train_orig.T\n",
        "Y_test = Y_test_orig.T\n",
        "\n",
        "print (\"number of training examples = \" + str(X_train.shape[0]))\n",
        "print (\"number of test examples = \" + str(X_test.shape[0]))\n",
        "print (\"X_train shape: \" + str(X_train.shape))\n",
        "print (\"Y_train shape: \" + str(Y_train.shape))\n",
        "print (\"X_test shape: \" + str(X_test.shape))\n",
        "print (\"Y_test shape: \" + str(Y_test.shape))"
      ]
    },
    {
      "cell_type": "markdown",
      "metadata": {
        "id": "PgOC4g7v5OG9"
      },
      "source": [
        "<a name='3'></a>\n",
        "## 2 - The Sequential API"
      ]
    },
    {
      "cell_type": "markdown",
      "metadata": {
        "id": "6JTbyw1k5OG9"
      },
      "source": [
        "<a name='2-1'></a>\n",
        "### 2.1 - Create the Sequential Model\n"
      ]
    },
    {
      "cell_type": "code",
      "execution_count": null,
      "metadata": {
        "deletable": false,
        "nbgrader": {
          "cell_type": "code",
          "checksum": "95d28b191f257bdd5b70c7b8952559d5",
          "grade": false,
          "grade_id": "cell-0e56d3fc28b69aec",
          "locked": false,
          "schema_version": 3,
          "solution": true,
          "task": false
        },
        "id": "5ZKkpRzJ5OG9"
      },
      "outputs": [],
      "source": [
        "def happyModel():\n",
        "    \"\"\"\n",
        "    Implements the forward propagation for the binary classification model:\n",
        "    ZEROPAD2D -> CONV2D -> BATCHNORM -> RELU -> MAXPOOL -> FLATTEN -> DENSE\n",
        "\n",
        "    Normally, functions should take these values as function parameters.\n",
        "\n",
        "    Arguments:\n",
        "    None\n",
        "\n",
        "    Returns:\n",
        "    model -- TF Keras model (object containing the information for the entire training process)\n",
        "    \"\"\"\n",
        "\n",
        "    model = tf.keras.Sequential([\n",
        "            ## ZeroPadding2D with padding 3, input shape of 64 x 64 x 3\n",
        "            tf.keras.layers.ZeroPadding2D(input_shape=(64, 64, 3), padding=3),\n",
        "            ## Conv2D with 32 7x7 filters and stride of 1\n",
        "            tf.keras.layers.Conv2D(filters=32, kernel_size=7, strides=1),\n",
        "            ## BatchNormalization for axis 3\n",
        "            tf.keras.layers.BatchNormalization(axis=3),\n",
        "            ## ReLU\n",
        "            tf.keras.layers.ReLU(),\n",
        "            ## Max Pooling 2D with default parameters\n",
        "            tf.keras.layers.MaxPool2D(),\n",
        "            ## Flatten layer\n",
        "            tf.keras.layers.Flatten(),\n",
        "            ## Dense layer with 1 unit for output & 'sigmoid' activation\n",
        "            tf.keras.layers.Dense(units=1, activation='sigmoid'),\n",
        "            # tf.keras.layers.Activation(tf.nn.sigmoid)\n",
        "        ])\n",
        "\n",
        "    return model"
      ]
    },
    {
      "cell_type": "code",
      "execution_count": null,
      "metadata": {
        "id": "tqeZTCuY5OG-"
      },
      "outputs": [],
      "source": [
        "happy_model.compile(optimizer='adam',\n",
        "                   loss='binary_crossentropy',\n",
        "                   metrics=['accuracy'])"
      ]
    },
    {
      "cell_type": "code",
      "execution_count": null,
      "metadata": {
        "id": "Qa00QFyc5OG-",
        "outputId": "15bb889c-3f96-4125-c5a7-1a085d422aa0"
      },
      "outputs": [
        {
          "name": "stdout",
          "output_type": "stream",
          "text": [
            "Model: \"sequential_9\"\n",
            "_________________________________________________________________\n",
            "Layer (type)                 Output Shape              Param #   \n",
            "=================================================================\n",
            "zero_padding2d_15 (ZeroPaddi (None, 70, 70, 3)         0         \n",
            "_________________________________________________________________\n",
            "conv2d_14 (Conv2D)           (None, 64, 64, 32)        4736      \n",
            "_________________________________________________________________\n",
            "batch_normalization_14 (Batc (None, 64, 64, 32)        128       \n",
            "_________________________________________________________________\n",
            "re_lu (ReLU)                 (None, 64, 64, 32)        0         \n",
            "_________________________________________________________________\n",
            "max_pooling2d_11 (MaxPooling (None, 32, 32, 32)        0         \n",
            "_________________________________________________________________\n",
            "flatten_11 (Flatten)         (None, 32768)             0         \n",
            "_________________________________________________________________\n",
            "dense_10 (Dense)             (None, 1)                 32769     \n",
            "=================================================================\n",
            "Total params: 37,633\n",
            "Trainable params: 37,569\n",
            "Non-trainable params: 64\n",
            "_________________________________________________________________\n"
          ]
        }
      ],
      "source": [
        "happy_model.summary()"
      ]
    },
    {
      "cell_type": "markdown",
      "metadata": {
        "id": "K_GNCHUR5OG-"
      },
      "source": [
        "<a name='2-2'></a>\n",
        "### 2.2 - Train and Evaluate the Model\n",
        "\n"
      ]
    },
    {
      "cell_type": "code",
      "execution_count": null,
      "metadata": {
        "id": "CI_YIwsK5OG_",
        "outputId": "87b6b7d0-d039-4706-8485-8a504d3dd55e"
      },
      "outputs": [
        {
          "name": "stdout",
          "output_type": "stream",
          "text": [
            "Epoch 1/10\n",
            "38/38 [==============================] - 4s 95ms/step - loss: 1.0705 - accuracy: 0.6950\n",
            "Epoch 2/10\n",
            "38/38 [==============================] - 4s 95ms/step - loss: 0.2717 - accuracy: 0.8767\n",
            "Epoch 3/10\n",
            "38/38 [==============================] - 4s 95ms/step - loss: 0.2072 - accuracy: 0.9250\n",
            "Epoch 4/10\n",
            "38/38 [==============================] - 4s 95ms/step - loss: 0.1170 - accuracy: 0.9633\n",
            "Epoch 5/10\n",
            "38/38 [==============================] - 4s 95ms/step - loss: 0.0716 - accuracy: 0.9767\n",
            "Epoch 6/10\n",
            "38/38 [==============================] - 4s 95ms/step - loss: 0.0656 - accuracy: 0.9783\n",
            "Epoch 7/10\n",
            "38/38 [==============================] - 4s 95ms/step - loss: 0.0667 - accuracy: 0.9783\n",
            "Epoch 8/10\n",
            "38/38 [==============================] - 4s 95ms/step - loss: 0.0935 - accuracy: 0.9717\n",
            "Epoch 9/10\n",
            "38/38 [==============================] - 4s 97ms/step - loss: 0.0881 - accuracy: 0.9667\n",
            "Epoch 10/10\n",
            "38/38 [==============================] - 4s 92ms/step - loss: 0.0634 - accuracy: 0.9750\n"
          ]
        },
        {
          "data": {
            "text/plain": [
              "<tensorflow.python.keras.callbacks.History at 0x7fbbd31f3c10>"
            ]
          },
          "execution_count": 52,
          "metadata": {},
          "output_type": "execute_result"
        }
      ],
      "source": [
        "happy_model.fit(X_train, Y_train, epochs=10, batch_size=16)"
      ]
    },
    {
      "cell_type": "code",
      "execution_count": null,
      "metadata": {
        "id": "jytxZjmw5OG_",
        "outputId": "dbae3c1e-3945-4cb1-e4bc-e0090a26e71c"
      },
      "outputs": [
        {
          "name": "stdout",
          "output_type": "stream",
          "text": [
            "5/5 [==============================] - 0s 33ms/step - loss: 0.1145 - accuracy: 0.9600\n"
          ]
        },
        {
          "data": {
            "text/plain": [
              "[0.11447519809007645, 0.9599999785423279]"
            ]
          },
          "execution_count": 47,
          "metadata": {},
          "output_type": "execute_result"
        }
      ],
      "source": [
        "happy_model.evaluate(X_test, Y_test)"
      ]
    },
    {
      "cell_type": "markdown",
      "metadata": {
        "id": "xgdnhGHp5OG_"
      },
      "source": [
        "<a name='3'></a>\n",
        "## 3 - The Functional API"
      ]
    },
    {
      "cell_type": "markdown",
      "metadata": {
        "id": "-rWjvFwY5OHA"
      },
      "source": [
        "The Functional API, unlike the Sequential API, can handle models with non-linear topology, shared layers, as well as layers with multiple inputs or outputs. Sequential is a straight line, while a Functional model is a graph, where the nodes of the layers can connect in many more ways than one.\n"
      ]
    },
    {
      "cell_type": "markdown",
      "metadata": {
        "id": "Okoht5Xg5OHA"
      },
      "source": [
        "<a name='3-1'></a>\n",
        "### 3.1 - Load the SIGNS Dataset\n",
        "\n",
        "The SIGNS dataset is a collection of 6 signs representing numbers from 0 to 5."
      ]
    },
    {
      "cell_type": "code",
      "execution_count": null,
      "metadata": {
        "id": "tg0fOnXX5OHA"
      },
      "outputs": [],
      "source": [
        "X_train_orig, Y_train_orig, X_test_orig, Y_test_orig, classes = load_signs_dataset()"
      ]
    },
    {
      "cell_type": "code",
      "execution_count": null,
      "metadata": {
        "id": "0zKm3Fh05OHA",
        "outputId": "c80c9ff5-f5eb-4018-be23-d9b1720ee032"
      },
      "outputs": [
        {
          "name": "stdout",
          "output_type": "stream",
          "text": [
            "y = 4\n"
          ]
        },
        {
          "data": {
            "image/png": "[encoded data removed]",
            "text/plain": [
              "<Figure size 432x288 with 1 Axes>"
            ]
          },
          "metadata": {
            "needs_background": "light"
          },
          "output_type": "display_data"
        }
      ],
      "source": [
        "# Example of an image from the dataset\n",
        "index = 9\n",
        "plt.imshow(X_train_orig[index])\n",
        "print (\"y = \" + str(np.squeeze(Y_train_orig[:, index])))"
      ]
    },
    {
      "cell_type": "markdown",
      "metadata": {
        "id": "z8T7u4X35OHB"
      },
      "source": [
        "<a name='3-2'></a>\n",
        "### 3.2 - Split the Data into Train/Test Sets\n"
      ]
    },
    {
      "cell_type": "code",
      "execution_count": null,
      "metadata": {
        "id": "aJlodw-l5OHB",
        "outputId": "d2c384ae-fcb9-415d-e988-db7293eb0ab9"
      },
      "outputs": [
        {
          "name": "stdout",
          "output_type": "stream",
          "text": [
            "number of training examples = 1080\n",
            "number of test examples = 120\n",
            "X_train shape: (1080, 64, 64, 3)\n",
            "Y_train shape: (1080, 6)\n",
            "X_test shape: (120, 64, 64, 3)\n",
            "Y_test shape: (120, 6)\n"
          ]
        }
      ],
      "source": [
        "X_train = X_train_orig/255.\n",
        "X_test = X_test_orig/255.\n",
        "Y_train = convert_to_one_hot(Y_train_orig, 6).T\n",
        "Y_test = convert_to_one_hot(Y_test_orig, 6).T\n",
        "print (\"number of training examples = \" + str(X_train.shape[0]))\n",
        "print (\"number of test examples = \" + str(X_test.shape[0]))\n",
        "print (\"X_train shape: \" + str(X_train.shape))\n",
        "print (\"Y_train shape: \" + str(Y_train.shape))\n",
        "print (\"X_test shape: \" + str(X_test.shape))\n",
        "print (\"Y_test shape: \" + str(Y_test.shape))"
      ]
    },
    {
      "cell_type": "markdown",
      "metadata": {
        "id": "GbZs3TIt5OHB"
      },
      "source": [
        "<a name='3-3'></a>\n",
        "### 3.3 - Forward Propagation\n",
        "\n",
        "In TensorFlow, there are built-in functions that implement the convolution steps. In the [Functional API](https://www.tensorflow.org/guide/keras/functional), we can create a graph of layers. This is what allows such great flexibility.\n",
        "\n",
        "I began building the graph of layers by creating an input node that functions as a callable object:\n",
        "\n",
        "- **input_img = tf.keras.Input(shape=input_shape):**\n",
        "\n",
        "Then, I created a new node in the graph of layers by calling a layer on the `input_img` object:\n",
        "\n",
        "- **tf.keras.layers.Conv2D(filters= ... , kernel_size= ... , padding='same')(input_img):** Read the full documentation on [Conv2D](https://www.tensorflow.org/api_docs/python/tf/keras/layers/Conv2D).\n",
        "\n",
        "- **tf.keras.layers.MaxPool2D(pool_size=(f, f), strides=(s, s), padding='same'):** `MaxPool2D()` downsamples the input using a window of size (f, f) and strides of size (s, s) to carry out max pooling over each window.  For max pooling, we usually operate on a single example at a time and a single channel at a time. Read the full documentation on [MaxPool2D](https://www.tensorflow.org/api_docs/python/tf/keras/layers/MaxPool2D).\n",
        "\n",
        "- **tf.keras.layers.ReLU():** computes the elementwise ReLU of Z (which can be any shape). The full documentation is here [ReLU](https://www.tensorflow.org/api_docs/python/tf/keras/layers/ReLU).\n",
        "\n",
        "- **tf.keras.layers.Flatten()**: given a tensor \"P\", this function takes each training (or test) example in the batch and flattens it into a 1D vector.  \n",
        "\n",
        "    * If a tensor P has the shape (batch_size,h,w,c), it returns a flattened tensor with shape (batch_size, k), where $k=h \\times w \\times c$.  \"k\" equals the product of all the dimension sizes other than the first dimension.\n",
        "    \n",
        "    * For example, given a tensor with dimensions [100, 2, 3, 4], it flattens the tensor to be of shape [100, 24], where 24 = 2 * 3 * 4.  The full documentation is here [Flatten](https://www.tensorflow.org/api_docs/python/tf/keras/layers/Flatten).\n",
        "\n",
        "- **tf.keras.layers.Dense(units= ... , activation='softmax')(F):** given the flattened input F, it returns the output computed using a fully connected layer. The full documentation is here [Dense](https://www.tensorflow.org/api_docs/python/tf/keras/layers/Dense).\n",
        "\n",
        "Lastly, before creating the model, I defined the output using the last of the function's compositions (in this example, a Dense layer):\n",
        "\n",
        "- **outputs = tf.keras.layers.Dense(units=6, activation='softmax')(F)**\n",
        "\n"
      ]
    },
    {
      "cell_type": "code",
      "execution_count": null,
      "metadata": {
        "deletable": false,
        "nbgrader": {
          "cell_type": "code",
          "checksum": "f58643806aa8380c96225fc8b4c5e7aa",
          "grade": false,
          "grade_id": "cell-dac51744a9e03f51",
          "locked": false,
          "schema_version": 3,
          "solution": true,
          "task": false
        },
        "id": "QFLZOJFS5OHB"
      },
      "outputs": [],
      "source": [
        "def convolutional_model(input_shape):\n",
        "    \"\"\"\n",
        "    Implements the forward propagation for the model:\n",
        "    CONV2D -> RELU -> MAXPOOL -> CONV2D -> RELU -> MAXPOOL -> FLATTEN -> DENSE\n",
        "\n",
        "    Arguments:\n",
        "    input_img -- input dataset, of shape (input_shape)\n",
        "\n",
        "    Returns:\n",
        "    model -- TF Keras model (object containing the information for the entire training process)\n",
        "    \"\"\"\n",
        "\n",
        "    input_img = tf.keras.Input(shape=input_shape)\n",
        "    ## CONV2D: 8 filters 4x4, stride of 1, padding 'SAME'\n",
        "    Z1 = tf.keras.layers.Conv2D(filters=8, kernel_size=4, strides=1, padding='same')(input_img)\n",
        "    ## RELU\n",
        "    A1 = tf.keras.layers.ReLU()(Z1)\n",
        "    ## MAXPOOL: window 8x8, stride 8, padding 'SAME'\n",
        "    P1 = tf.keras.layers.MaxPool2D(pool_size=(8, 8), strides=(8, 8), padding='same')(A1)\n",
        "    ## CONV2D: 16 filters 2x2, stride 1, padding 'SAME'\n",
        "    Z2 = tf.keras.layers.Conv2D(filters=16, kernel_size=(2, 2), strides=1, padding='same')(P1)\n",
        "    ## RELU\n",
        "    A2 = tf.keras.layers.ReLU()(Z2)\n",
        "    ## MAXPOOL: window 4x4, stride 4, padding 'SAME'\n",
        "    P2 = tf.keras.layers.MaxPool2D(pool_size=(4, 4), strides=4, padding='same')(A2)\n",
        "    ## FLATTEN\n",
        "    F = tf.keras.layers.Flatten()(P2)\n",
        "    ## Dense layer\n",
        "    ## 6 neurons in output layer. Hint: one of the arguments should be \"activation='softmax'\"\n",
        "    outputs = tf.keras.layers.Dense(units=6, activation='softmax')(F)\n",
        "\n",
        "    model = tf.keras.Model(inputs=input_img, outputs=outputs)\n",
        "    return model"
      ]
    },
    {
      "cell_type": "code",
      "execution_count": null,
      "metadata": {
        "deletable": false,
        "editable": false,
        "nbgrader": {
          "cell_type": "code",
          "checksum": "483d626949930a0b0ef20997e7c6ba72",
          "grade": true,
          "grade_id": "cell-45d22e92042174c9",
          "locked": true,
          "points": 10,
          "schema_version": 3,
          "solution": false,
          "task": false
        },
        "id": "_9WdRCra5OHC",
        "outputId": "b590b428-ed4a-4524-9886-36c6fccb69c0"
      },
      "outputs": [
        {
          "name": "stdout",
          "output_type": "stream",
          "text": [
            "Model: \"functional_2\"\n",
            "_________________________________________________________________\n",
            "Layer (type)                 Output Shape              Param #   \n",
            "=================================================================\n",
            "input_4 (InputLayer)         [(None, 64, 64, 3)]       0         \n",
            "_________________________________________________________________\n",
            "conv2d_20 (Conv2D)           (None, 64, 64, 8)         392       \n",
            "_________________________________________________________________\n",
            "re_lu_6 (ReLU)               (None, 64, 64, 8)         0         \n",
            "_________________________________________________________________\n",
            "max_pooling2d_16 (MaxPooling (None, 8, 8, 8)           0         \n",
            "_________________________________________________________________\n",
            "conv2d_21 (Conv2D)           (None, 8, 8, 16)          528       \n",
            "_________________________________________________________________\n",
            "re_lu_7 (ReLU)               (None, 8, 8, 16)          0         \n",
            "_________________________________________________________________\n",
            "max_pooling2d_17 (MaxPooling (None, 2, 2, 16)          0         \n",
            "_________________________________________________________________\n",
            "flatten_14 (Flatten)         (None, 64)                0         \n",
            "_________________________________________________________________\n",
            "dense_13 (Dense)             (None, 6)                 390       \n",
            "=================================================================\n",
            "Total params: 1,310\n",
            "Trainable params: 1,310\n",
            "Non-trainable params: 0\n",
            "_________________________________________________________________\n",
            "\u001b[32mAll tests passed!\u001b[0m\n"
          ]
        }
      ],
      "source": [
        "conv_model = convolutional_model((64, 64, 3))\n",
        "conv_model.compile(optimizer='adam',\n",
        "                  loss='categorical_crossentropy',\n",
        "                  metrics=['accuracy'])\n",
        "conv_model.summary()\n",
        "\n",
        "output = [['InputLayer', [(None, 64, 64, 3)], 0],\n",
        "        ['Conv2D', (None, 64, 64, 8), 392, 'same', 'linear', 'GlorotUniform'],\n",
        "        ['ReLU', (None, 64, 64, 8), 0],\n",
        "        ['MaxPooling2D', (None, 8, 8, 8), 0, (8, 8), (8, 8), 'same'],\n",
        "        ['Conv2D', (None, 8, 8, 16), 528, 'same', 'linear', 'GlorotUniform'],\n",
        "        ['ReLU', (None, 8, 8, 16), 0],\n",
        "        ['MaxPooling2D', (None, 2, 2, 16), 0, (4, 4), (4, 4), 'same'],\n",
        "        ['Flatten', (None, 64), 0],\n",
        "        ['Dense', (None, 6), 390, 'softmax']]\n",
        "\n",
        "comparator(summary(conv_model), output)"
      ]
    },
    {
      "cell_type": "markdown",
      "metadata": {
        "id": "gv5sEsXt5OHC"
      },
      "source": [
        "<a name='3-4'></a>\n",
        "### 3.4 - Train the Model"
      ]
    },
    {
      "cell_type": "code",
      "execution_count": null,
      "metadata": {
        "id": "_8-X8h_g5OHC",
        "outputId": "4944b34c-0eda-4f77-b649-5229f0ceca69"
      },
      "outputs": [
        {
          "name": "stdout",
          "output_type": "stream",
          "text": [
            "Epoch 1/100\n",
            "17/17 [==============================] - 2s 112ms/step - loss: 1.8320 - accuracy: 0.1620 - val_loss: 1.7976 - val_accuracy: 0.1000\n",
            "Epoch 2/100\n",
            "17/17 [==============================] - 2s 111ms/step - loss: 1.7969 - accuracy: 0.1278 - val_loss: 1.7923 - val_accuracy: 0.2083\n",
            "Epoch 3/100\n",
            "17/17 [==============================] - 2s 112ms/step - loss: 1.7927 - accuracy: 0.1935 - val_loss: 1.7907 - val_accuracy: 0.2333\n",
            "Epoch 4/100\n",
            "17/17 [==============================] - 2s 111ms/step - loss: 1.7907 - accuracy: 0.2120 - val_loss: 1.7900 - val_accuracy: 0.2667\n",
            "Epoch 5/100\n",
            "17/17 [==============================] - 2s 112ms/step - loss: 1.7891 - accuracy: 0.2185 - val_loss: 1.7884 - val_accuracy: 0.2750\n",
            "Epoch 6/100\n",
            "17/17 [==============================] - 2s 111ms/step - loss: 1.7876 - accuracy: 0.2333 - val_loss: 1.7869 - val_accuracy: 0.3250\n",
            "Epoch 7/100\n",
            "17/17 [==============================] - 2s 107ms/step - loss: 1.7860 - accuracy: 0.2370 - val_loss: 1.7857 - val_accuracy: 0.2417\n",
            "Epoch 8/100\n",
            "17/17 [==============================] - 2s 106ms/step - loss: 1.7842 - accuracy: 0.2574 - val_loss: 1.7844 - val_accuracy: 0.3250\n",
            "Epoch 9/100\n",
            "17/17 [==============================] - 2s 111ms/step - loss: 1.7818 - accuracy: 0.2620 - val_loss: 1.7812 - val_accuracy: 0.2500\n",
            "Epoch 10/100\n",
            "17/17 [==============================] - 2s 111ms/step - loss: 1.7777 - accuracy: 0.2954 - val_loss: 1.7758 - val_accuracy: 0.3083\n",
            "Epoch 11/100\n",
            "17/17 [==============================] - 2s 112ms/step - loss: 1.7733 - accuracy: 0.3250 - val_loss: 1.7703 - val_accuracy: 0.3833\n",
            "Epoch 12/100\n",
            "17/17 [==============================] - 2s 106ms/step - loss: 1.7667 - accuracy: 0.3704 - val_loss: 1.7627 - val_accuracy: 0.3750\n",
            "Epoch 13/100\n",
            "17/17 [==============================] - 2s 106ms/step - loss: 1.7579 - accuracy: 0.4046 - val_loss: 1.7540 - val_accuracy: 0.3417\n",
            "Epoch 14/100\n",
            "17/17 [==============================] - 2s 112ms/step - loss: 1.7469 - accuracy: 0.4083 - val_loss: 1.7400 - val_accuracy: 0.4000\n",
            "Epoch 15/100\n",
            "17/17 [==============================] - 2s 112ms/step - loss: 1.7312 - accuracy: 0.4352 - val_loss: 1.7220 - val_accuracy: 0.3417\n",
            "Epoch 16/100\n",
            "17/17 [==============================] - 2s 106ms/step - loss: 1.7095 - accuracy: 0.4546 - val_loss: 1.6951 - val_accuracy: 0.4333\n",
            "Epoch 17/100\n",
            "17/17 [==============================] - 2s 106ms/step - loss: 1.6824 - accuracy: 0.4639 - val_loss: 1.6630 - val_accuracy: 0.4833\n",
            "Epoch 18/100\n",
            "17/17 [==============================] - 2s 111ms/step - loss: 1.6517 - accuracy: 0.4417 - val_loss: 1.6297 - val_accuracy: 0.4500\n",
            "Epoch 19/100\n",
            "17/17 [==============================] - 2s 111ms/step - loss: 1.6151 - accuracy: 0.4676 - val_loss: 1.5914 - val_accuracy: 0.4667\n",
            "Epoch 20/100\n",
            "17/17 [==============================] - 2s 112ms/step - loss: 1.5705 - accuracy: 0.4750 - val_loss: 1.5396 - val_accuracy: 0.5167\n",
            "Epoch 21/100\n",
            "17/17 [==============================] - 2s 111ms/step - loss: 1.5271 - accuracy: 0.4815 - val_loss: 1.4944 - val_accuracy: 0.5250\n",
            "Epoch 22/100\n",
            "17/17 [==============================] - 2s 111ms/step - loss: 1.4818 - accuracy: 0.4972 - val_loss: 1.4500 - val_accuracy: 0.4917\n",
            "Epoch 23/100\n",
            "17/17 [==============================] - 2s 111ms/step - loss: 1.4382 - accuracy: 0.5093 - val_loss: 1.4038 - val_accuracy: 0.5250\n",
            "Epoch 24/100\n",
            "17/17 [==============================] - 2s 112ms/step - loss: 1.3937 - accuracy: 0.5269 - val_loss: 1.3591 - val_accuracy: 0.5333\n",
            "Epoch 25/100\n",
            "17/17 [==============================] - 2s 111ms/step - loss: 1.3543 - accuracy: 0.5361 - val_loss: 1.3208 - val_accuracy: 0.5250\n",
            "Epoch 26/100\n",
            "17/17 [==============================] - 2s 111ms/step - loss: 1.3127 - accuracy: 0.5648 - val_loss: 1.2786 - val_accuracy: 0.5583\n",
            "Epoch 27/100\n",
            "17/17 [==============================] - 2s 111ms/step - loss: 1.2718 - accuracy: 0.5870 - val_loss: 1.2413 - val_accuracy: 0.5583\n",
            "Epoch 28/100\n",
            "17/17 [==============================] - 2s 106ms/step - loss: 1.2333 - accuracy: 0.6046 - val_loss: 1.2032 - val_accuracy: 0.5583\n",
            "Epoch 29/100\n",
            "17/17 [==============================] - 2s 106ms/step - loss: 1.1987 - accuracy: 0.6083 - val_loss: 1.1718 - val_accuracy: 0.5917\n",
            "Epoch 30/100\n",
            "17/17 [==============================] - 2s 107ms/step - loss: 1.1639 - accuracy: 0.6250 - val_loss: 1.1390 - val_accuracy: 0.6083\n",
            "Epoch 31/100\n",
            "17/17 [==============================] - 2s 106ms/step - loss: 1.1309 - accuracy: 0.6333 - val_loss: 1.1110 - val_accuracy: 0.6250\n",
            "Epoch 32/100\n",
            "17/17 [==============================] - 2s 111ms/step - loss: 1.1000 - accuracy: 0.6463 - val_loss: 1.0859 - val_accuracy: 0.6167\n",
            "Epoch 33/100\n",
            "17/17 [==============================] - 2s 106ms/step - loss: 1.0716 - accuracy: 0.6500 - val_loss: 1.0597 - val_accuracy: 0.6500\n",
            "Epoch 34/100\n",
            "17/17 [==============================] - 2s 101ms/step - loss: 1.0440 - accuracy: 0.6611 - val_loss: 1.0387 - val_accuracy: 0.6417\n",
            "Epoch 35/100\n",
            "17/17 [==============================] - 2s 106ms/step - loss: 1.0174 - accuracy: 0.6676 - val_loss: 1.0186 - val_accuracy: 0.6500\n",
            "Epoch 36/100\n",
            "17/17 [==============================] - 2s 106ms/step - loss: 0.9914 - accuracy: 0.6741 - val_loss: 0.9977 - val_accuracy: 0.6500\n",
            "Epoch 37/100\n",
            "17/17 [==============================] - 2s 106ms/step - loss: 0.9680 - accuracy: 0.6833 - val_loss: 0.9787 - val_accuracy: 0.6667\n",
            "Epoch 38/100\n",
            "17/17 [==============================] - 2s 106ms/step - loss: 0.9462 - accuracy: 0.6880 - val_loss: 0.9621 - val_accuracy: 0.6583\n",
            "Epoch 39/100\n",
            "17/17 [==============================] - 2s 102ms/step - loss: 0.9244 - accuracy: 0.6981 - val_loss: 0.9445 - val_accuracy: 0.6667\n",
            "Epoch 40/100\n",
            "17/17 [==============================] - 2s 106ms/step - loss: 0.9018 - accuracy: 0.7056 - val_loss: 0.9297 - val_accuracy: 0.6500\n",
            "Epoch 41/100\n",
            "17/17 [==============================] - 2s 106ms/step - loss: 0.8826 - accuracy: 0.7157 - val_loss: 0.9148 - val_accuracy: 0.6583\n",
            "Epoch 42/100\n",
            "17/17 [==============================] - 2s 106ms/step - loss: 0.8646 - accuracy: 0.7222 - val_loss: 0.9020 - val_accuracy: 0.6500\n",
            "Epoch 43/100\n",
            "17/17 [==============================] - 2s 106ms/step - loss: 0.8473 - accuracy: 0.7296 - val_loss: 0.8881 - val_accuracy: 0.6583\n",
            "Epoch 44/100\n",
            "17/17 [==============================] - 2s 106ms/step - loss: 0.8301 - accuracy: 0.7417 - val_loss: 0.8768 - val_accuracy: 0.6667\n",
            "Epoch 45/100\n",
            "17/17 [==============================] - 2s 111ms/step - loss: 0.8144 - accuracy: 0.7454 - val_loss: 0.8645 - val_accuracy: 0.6667\n",
            "Epoch 46/100\n",
            "17/17 [==============================] - 2s 106ms/step - loss: 0.7992 - accuracy: 0.7546 - val_loss: 0.8540 - val_accuracy: 0.6667\n",
            "Epoch 47/100\n",
            "17/17 [==============================] - 2s 106ms/step - loss: 0.7856 - accuracy: 0.7565 - val_loss: 0.8431 - val_accuracy: 0.6750\n",
            "Epoch 48/100\n",
            "17/17 [==============================] - 2s 106ms/step - loss: 0.7713 - accuracy: 0.7630 - val_loss: 0.8337 - val_accuracy: 0.6750\n",
            "Epoch 49/100\n",
            "17/17 [==============================] - 2s 106ms/step - loss: 0.7585 - accuracy: 0.7648 - val_loss: 0.8241 - val_accuracy: 0.6833\n",
            "Epoch 50/100\n",
            "17/17 [==============================] - 2s 106ms/step - loss: 0.7468 - accuracy: 0.7667 - val_loss: 0.8152 - val_accuracy: 0.7000\n",
            "Epoch 51/100\n",
            "17/17 [==============================] - 2s 112ms/step - loss: 0.7349 - accuracy: 0.7731 - val_loss: 0.8058 - val_accuracy: 0.7000\n",
            "Epoch 52/100\n",
            "17/17 [==============================] - 2s 106ms/step - loss: 0.7238 - accuracy: 0.7824 - val_loss: 0.7988 - val_accuracy: 0.7083\n",
            "Epoch 53/100\n",
            "17/17 [==============================] - 2s 107ms/step - loss: 0.7131 - accuracy: 0.7787 - val_loss: 0.7900 - val_accuracy: 0.7000\n",
            "Epoch 54/100\n",
            "17/17 [==============================] - 2s 106ms/step - loss: 0.7024 - accuracy: 0.7815 - val_loss: 0.7844 - val_accuracy: 0.7083\n",
            "Epoch 55/100\n",
            "17/17 [==============================] - 2s 106ms/step - loss: 0.6925 - accuracy: 0.7852 - val_loss: 0.7751 - val_accuracy: 0.7083\n",
            "Epoch 56/100\n",
            "17/17 [==============================] - 2s 111ms/step - loss: 0.6831 - accuracy: 0.7833 - val_loss: 0.7703 - val_accuracy: 0.7000\n",
            "Epoch 57/100\n",
            "17/17 [==============================] - 2s 107ms/step - loss: 0.6744 - accuracy: 0.7852 - val_loss: 0.7630 - val_accuracy: 0.7083\n"
          ]
        },
        {
          "name": "stdout",
          "output_type": "stream",
          "text": [
            "Epoch 58/100\n",
            "17/17 [==============================] - 2s 107ms/step - loss: 0.6658 - accuracy: 0.7852 - val_loss: 0.7579 - val_accuracy: 0.7000\n",
            "Epoch 59/100\n",
            "17/17 [==============================] - 2s 106ms/step - loss: 0.6576 - accuracy: 0.7935 - val_loss: 0.7502 - val_accuracy: 0.7167\n",
            "Epoch 60/100\n",
            "17/17 [==============================] - 2s 107ms/step - loss: 0.6487 - accuracy: 0.7926 - val_loss: 0.7443 - val_accuracy: 0.7250\n",
            "Epoch 61/100\n",
            "17/17 [==============================] - 2s 107ms/step - loss: 0.6413 - accuracy: 0.7935 - val_loss: 0.7371 - val_accuracy: 0.7333\n",
            "Epoch 62/100\n",
            "17/17 [==============================] - 2s 106ms/step - loss: 0.6330 - accuracy: 0.8000 - val_loss: 0.7297 - val_accuracy: 0.7250\n",
            "Epoch 63/100\n",
            "17/17 [==============================] - 2s 107ms/step - loss: 0.6256 - accuracy: 0.8056 - val_loss: 0.7223 - val_accuracy: 0.7500\n",
            "Epoch 64/100\n",
            "17/17 [==============================] - 2s 106ms/step - loss: 0.6172 - accuracy: 0.8046 - val_loss: 0.7167 - val_accuracy: 0.7500\n",
            "Epoch 65/100\n",
            "17/17 [==============================] - 2s 106ms/step - loss: 0.6097 - accuracy: 0.8111 - val_loss: 0.7119 - val_accuracy: 0.7500\n",
            "Epoch 66/100\n",
            "17/17 [==============================] - 2s 107ms/step - loss: 0.6024 - accuracy: 0.8148 - val_loss: 0.7067 - val_accuracy: 0.7583\n",
            "Epoch 67/100\n",
            "17/17 [==============================] - 2s 106ms/step - loss: 0.5953 - accuracy: 0.8176 - val_loss: 0.7006 - val_accuracy: 0.7500\n",
            "Epoch 68/100\n",
            "17/17 [==============================] - 2s 107ms/step - loss: 0.5884 - accuracy: 0.8204 - val_loss: 0.6958 - val_accuracy: 0.7500\n",
            "Epoch 69/100\n",
            "17/17 [==============================] - 2s 107ms/step - loss: 0.5814 - accuracy: 0.8213 - val_loss: 0.6911 - val_accuracy: 0.7500\n",
            "Epoch 70/100\n",
            "17/17 [==============================] - 2s 112ms/step - loss: 0.5747 - accuracy: 0.8250 - val_loss: 0.6868 - val_accuracy: 0.7417\n",
            "Epoch 71/100\n",
            "17/17 [==============================] - 2s 112ms/step - loss: 0.5682 - accuracy: 0.8269 - val_loss: 0.6821 - val_accuracy: 0.7417\n",
            "Epoch 72/100\n",
            "17/17 [==============================] - 2s 107ms/step - loss: 0.5618 - accuracy: 0.8296 - val_loss: 0.6773 - val_accuracy: 0.7417\n",
            "Epoch 73/100\n",
            "17/17 [==============================] - 2s 107ms/step - loss: 0.5559 - accuracy: 0.8306 - val_loss: 0.6725 - val_accuracy: 0.7417\n",
            "Epoch 74/100\n",
            "17/17 [==============================] - 2s 107ms/step - loss: 0.5498 - accuracy: 0.8315 - val_loss: 0.6680 - val_accuracy: 0.7500\n",
            "Epoch 75/100\n",
            "17/17 [==============================] - 2s 107ms/step - loss: 0.5437 - accuracy: 0.8343 - val_loss: 0.6636 - val_accuracy: 0.7583\n",
            "Epoch 76/100\n",
            "17/17 [==============================] - 2s 106ms/step - loss: 0.5381 - accuracy: 0.8370 - val_loss: 0.6591 - val_accuracy: 0.7500\n",
            "Epoch 77/100\n",
            "17/17 [==============================] - 2s 107ms/step - loss: 0.5322 - accuracy: 0.8380 - val_loss: 0.6541 - val_accuracy: 0.7500\n",
            "Epoch 78/100\n",
            "17/17 [==============================] - 2s 107ms/step - loss: 0.5265 - accuracy: 0.8398 - val_loss: 0.6500 - val_accuracy: 0.7417\n",
            "Epoch 79/100\n",
            "17/17 [==============================] - 2s 107ms/step - loss: 0.5211 - accuracy: 0.8417 - val_loss: 0.6466 - val_accuracy: 0.7667\n",
            "Epoch 80/100\n",
            "17/17 [==============================] - 2s 106ms/step - loss: 0.5157 - accuracy: 0.8417 - val_loss: 0.6430 - val_accuracy: 0.7667\n",
            "Epoch 81/100\n",
            "17/17 [==============================] - 2s 106ms/step - loss: 0.5104 - accuracy: 0.8463 - val_loss: 0.6394 - val_accuracy: 0.7750\n",
            "Epoch 82/100\n",
            "17/17 [==============================] - 2s 111ms/step - loss: 0.5054 - accuracy: 0.8463 - val_loss: 0.6368 - val_accuracy: 0.7750\n",
            "Epoch 83/100\n",
            "17/17 [==============================] - 2s 107ms/step - loss: 0.5003 - accuracy: 0.8519 - val_loss: 0.6331 - val_accuracy: 0.7750\n",
            "Epoch 84/100\n",
            "17/17 [==============================] - 2s 106ms/step - loss: 0.4955 - accuracy: 0.8546 - val_loss: 0.6295 - val_accuracy: 0.7750\n",
            "Epoch 85/100\n",
            "17/17 [==============================] - 2s 106ms/step - loss: 0.4907 - accuracy: 0.8565 - val_loss: 0.6264 - val_accuracy: 0.7750\n",
            "Epoch 86/100\n",
            "17/17 [==============================] - 2s 106ms/step - loss: 0.4860 - accuracy: 0.8583 - val_loss: 0.6229 - val_accuracy: 0.7750\n",
            "Epoch 87/100\n",
            "17/17 [==============================] - 2s 107ms/step - loss: 0.4810 - accuracy: 0.8593 - val_loss: 0.6206 - val_accuracy: 0.7750\n",
            "Epoch 88/100\n",
            "17/17 [==============================] - 2s 106ms/step - loss: 0.4763 - accuracy: 0.8611 - val_loss: 0.6192 - val_accuracy: 0.7750\n",
            "Epoch 89/100\n",
            "17/17 [==============================] - 2s 106ms/step - loss: 0.4715 - accuracy: 0.8630 - val_loss: 0.6173 - val_accuracy: 0.7667\n",
            "Epoch 90/100\n",
            "17/17 [==============================] - 2s 107ms/step - loss: 0.4672 - accuracy: 0.8630 - val_loss: 0.6144 - val_accuracy: 0.7667\n",
            "Epoch 91/100\n",
            "17/17 [==============================] - 2s 105ms/step - loss: 0.4625 - accuracy: 0.8657 - val_loss: 0.6126 - val_accuracy: 0.7667\n",
            "Epoch 92/100\n",
            "17/17 [==============================] - 2s 107ms/step - loss: 0.4584 - accuracy: 0.8667 - val_loss: 0.6096 - val_accuracy: 0.7667\n",
            "Epoch 93/100\n",
            "17/17 [==============================] - 2s 106ms/step - loss: 0.4539 - accuracy: 0.8713 - val_loss: 0.6076 - val_accuracy: 0.7667\n",
            "Epoch 94/100\n",
            "17/17 [==============================] - 2s 102ms/step - loss: 0.4502 - accuracy: 0.8713 - val_loss: 0.6050 - val_accuracy: 0.7667\n",
            "Epoch 95/100\n",
            "17/17 [==============================] - 2s 106ms/step - loss: 0.4459 - accuracy: 0.8731 - val_loss: 0.6025 - val_accuracy: 0.7750\n",
            "Epoch 96/100\n",
            "17/17 [==============================] - 2s 102ms/step - loss: 0.4422 - accuracy: 0.8713 - val_loss: 0.6004 - val_accuracy: 0.7750\n",
            "Epoch 97/100\n",
            "17/17 [==============================] - 2s 106ms/step - loss: 0.4383 - accuracy: 0.8750 - val_loss: 0.5972 - val_accuracy: 0.7667\n",
            "Epoch 98/100\n",
            "17/17 [==============================] - 2s 106ms/step - loss: 0.4348 - accuracy: 0.8750 - val_loss: 0.5960 - val_accuracy: 0.7667\n",
            "Epoch 99/100\n",
            "17/17 [==============================] - 2s 106ms/step - loss: 0.4310 - accuracy: 0.8750 - val_loss: 0.5929 - val_accuracy: 0.7667\n",
            "Epoch 100/100\n",
            "17/17 [==============================] - 2s 106ms/step - loss: 0.4276 - accuracy: 0.8750 - val_loss: 0.5913 - val_accuracy: 0.7667\n"
          ]
        }
      ],
      "source": [
        "train_dataset = tf.data.Dataset.from_tensor_slices((X_train, Y_train)).batch(64)\n",
        "test_dataset = tf.data.Dataset.from_tensor_slices((X_test, Y_test)).batch(64)\n",
        "history = conv_model.fit(train_dataset, epochs=100, validation_data=test_dataset)"
      ]
    },
    {
      "cell_type": "markdown",
      "metadata": {
        "id": "kV_8SmDo5OHD"
      },
      "source": [
        "<a name='4'></a>\n",
        "## 4 - History Object\n",
        "\n",
        "The history object is an output of the `.fit()` operation, and provides a record of all the loss and metric values in memory. It's stored as a dictionary that can be retrieved at `history.history`:"
      ]
    },
    {
      "cell_type": "code",
      "execution_count": null,
      "metadata": {
        "id": "CsnYwhgY5OHH",
        "outputId": "28d6c608-6edd-41d3-932a-a94ea3f08d81"
      },
      "outputs": [
        {
          "data": {
            "text/plain": [
              "{'loss': [1.832021951675415,\n",
              "  1.7968534231185913,\n",
              "  1.7927029132843018,\n",
              "  1.7907171249389648,\n",
              "  1.7891197204589844,\n",
              "  1.7875511646270752,\n",
              "  1.7859898805618286,\n",
              "  1.7841594219207764,\n",
              "  1.7818211317062378,\n",
              "  1.77769935131073,\n",
              "  1.7732744216918945,\n",
              "  1.7666789293289185,\n",
              "  1.7579294443130493,\n",
              "  1.7469185590744019,\n",
              "  1.731240153312683,\n",
              "  1.7095445394515991,\n",
              "  1.6824156045913696,\n",
              "  1.6517289876937866,\n",
              "  1.6151138544082642,\n",
              "  1.5705281496047974,\n",
              "  1.5270885229110718,\n",
              "  1.4817931652069092,\n",
              "  1.4382315874099731,\n",
              "  1.3936662673950195,\n",
              "  1.3542733192443848,\n",
              "  1.3126587867736816,\n",
              "  1.2718405723571777,\n",
              "  1.2333070039749146,\n",
              "  1.1986982822418213,\n",
              "  1.1639196872711182,\n",
              "  1.1308989524841309,\n",
              "  1.1000391244888306,\n",
              "  1.071606159210205,\n",
              "  1.0440125465393066,\n",
              "  1.0173523426055908,\n",
              "  0.9913626313209534,\n",
              "  0.9680266380310059,\n",
              "  0.9461867213249207,\n",
              "  0.9243859052658081,\n",
              "  0.901781439781189,\n",
              "  0.8826159834861755,\n",
              "  0.864599883556366,\n",
              "  0.8472504019737244,\n",
              "  0.8300906419754028,\n",
              "  0.8144285082817078,\n",
              "  0.7991934418678284,\n",
              "  0.7856128811836243,\n",
              "  0.7712969183921814,\n",
              "  0.7585326433181763,\n",
              "  0.7468286752700806,\n",
              "  0.7349433898925781,\n",
              "  0.7237902879714966,\n",
              "  0.7130765914916992,\n",
              "  0.702436089515686,\n",
              "  0.6924766898155212,\n",
              "  0.6831434369087219,\n",
              "  0.6744012832641602,\n",
              "  0.6657649278640747,\n",
              "  0.6576231122016907,\n",
              "  0.6486728191375732,\n",
              "  0.6412695050239563,\n",
              "  0.6329584121704102,\n",
              "  0.6256341934204102,\n",
              "  0.6171775460243225,\n",
              "  0.6097476482391357,\n",
              "  0.6024089455604553,\n",
              "  0.5953260064125061,\n",
              "  0.588428258895874,\n",
              "  0.5813872814178467,\n",
              "  0.5746658444404602,\n",
              "  0.5681740045547485,\n",
              "  0.5618154406547546,\n",
              "  0.5559077262878418,\n",
              "  0.5498207211494446,\n",
              "  0.5437270998954773,\n",
              "  0.538059651851654,\n",
              "  0.5321506857872009,\n",
              "  0.5264591574668884,\n",
              "  0.5211470723152161,\n",
              "  0.5157416462898254,\n",
              "  0.510422945022583,\n",
              "  0.5054050087928772,\n",
              "  0.5002533793449402,\n",
              "  0.49550873041152954,\n",
              "  0.490679532289505,\n",
              "  0.4860450029373169,\n",
              "  0.4810248613357544,\n",
              "  0.4763396084308624,\n",
              "  0.4715326726436615,\n",
              "  0.4671815037727356,\n",
              "  0.46252116560935974,\n",
              "  0.4584072232246399,\n",
              "  0.45394378900527954,\n",
              "  0.45016396045684814,\n",
              "  0.44588226079940796,\n",
              "  0.44218915700912476,\n",
              "  0.4382762014865875,\n",
              "  0.4347955584526062,\n",
              "  0.4309757947921753,\n",
              "  0.4276317358016968],\n",
              " 'accuracy': [0.16203702986240387,\n",
              "  0.12777778506278992,\n",
              "  0.1935185194015503,\n",
              "  0.21203704178333282,\n",
              "  0.21851852536201477,\n",
              "  0.23333333432674408,\n",
              "  0.2370370328426361,\n",
              "  0.25740739703178406,\n",
              "  0.2620370388031006,\n",
              "  0.2953703701496124,\n",
              "  0.32499998807907104,\n",
              "  0.37037035822868347,\n",
              "  0.4046296179294586,\n",
              "  0.40833333134651184,\n",
              "  0.43518519401550293,\n",
              "  0.4546296298503876,\n",
              "  0.46388888359069824,\n",
              "  0.4416666626930237,\n",
              "  0.46759259700775146,\n",
              "  0.4749999940395355,\n",
              "  0.48148149251937866,\n",
              "  0.4972222149372101,\n",
              "  0.5092592835426331,\n",
              "  0.5268518328666687,\n",
              "  0.5361111164093018,\n",
              "  0.5648148059844971,\n",
              "  0.5870370268821716,\n",
              "  0.604629635810852,\n",
              "  0.6083333492279053,\n",
              "  0.625,\n",
              "  0.6333333253860474,\n",
              "  0.6462963223457336,\n",
              "  0.6499999761581421,\n",
              "  0.6611111164093018,\n",
              "  0.6675925850868225,\n",
              "  0.6740740537643433,\n",
              "  0.6833333373069763,\n",
              "  0.6879629492759705,\n",
              "  0.6981481313705444,\n",
              "  0.7055555582046509,\n",
              "  0.7157407402992249,\n",
              "  0.7222222089767456,\n",
              "  0.729629635810852,\n",
              "  0.7416666746139526,\n",
              "  0.7453703880310059,\n",
              "  0.7546296119689941,\n",
              "  0.7564814686775208,\n",
              "  0.7629629373550415,\n",
              "  0.7648147940635681,\n",
              "  0.7666666507720947,\n",
              "  0.7731481194496155,\n",
              "  0.7824074029922485,\n",
              "  0.7787036895751953,\n",
              "  0.7814815044403076,\n",
              "  0.7851851582527161,\n",
              "  0.7833333611488342,\n",
              "  0.7851851582527161,\n",
              "  0.7851851582527161,\n",
              "  0.7935185432434082,\n",
              "  0.7925925850868225,\n",
              "  0.7935185432434082,\n",
              "  0.800000011920929,\n",
              "  0.8055555820465088,\n",
              "  0.8046296238899231,\n",
              "  0.8111110925674438,\n",
              "  0.8148148059844971,\n",
              "  0.8175926208496094,\n",
              "  0.8203703761100769,\n",
              "  0.8212962746620178,\n",
              "  0.824999988079071,\n",
              "  0.8268518447875977,\n",
              "  0.8296296000480652,\n",
              "  0.8305555582046509,\n",
              "  0.8314814567565918,\n",
              "  0.8342592716217041,\n",
              "  0.8370370268821716,\n",
              "  0.8379629850387573,\n",
              "  0.8398148417472839,\n",
              "  0.8416666388511658,\n",
              "  0.8416666388511658,\n",
              "  0.8462963104248047,\n",
              "  0.8462963104248047,\n",
              "  0.8518518805503845,\n",
              "  0.854629635810852,\n",
              "  0.8564814925193787,\n",
              "  0.8583333492279053,\n",
              "  0.8592592477798462,\n",
              "  0.8611111044883728,\n",
              "  0.8629629611968994,\n",
              "  0.8629629611968994,\n",
              "  0.8657407164573669,\n",
              "  0.8666666746139526,\n",
              "  0.8712962865829468,\n",
              "  0.8712962865829468,\n",
              "  0.8731481432914734,\n",
              "  0.8712962865829468,\n",
              "  0.875,\n",
              "  0.875,\n",
              "  0.875,\n",
              "  0.875],\n",
              " 'val_loss': [1.7976208925247192,\n",
              "  1.7923365831375122,\n",
              "  1.790729284286499,\n",
              "  1.7900055646896362,\n",
              "  1.7883814573287964,\n",
              "  1.7869257926940918,\n",
              "  1.785692811012268,\n",
              "  1.7843689918518066,\n",
              "  1.7811912298202515,\n",
              "  1.7757904529571533,\n",
              "  1.770337462425232,\n",
              "  1.7626872062683105,\n",
              "  1.753970980644226,\n",
              "  1.740027666091919,\n",
              "  1.7220202684402466,\n",
              "  1.6951333284378052,\n",
              "  1.6629585027694702,\n",
              "  1.6297134160995483,\n",
              "  1.591429591178894,\n",
              "  1.539629578590393,\n",
              "  1.4944071769714355,\n",
              "  1.4500395059585571,\n",
              "  1.40381920337677,\n",
              "  1.3590683937072754,\n",
              "  1.3208264112472534,\n",
              "  1.2786144018173218,\n",
              "  1.2413071393966675,\n",
              "  1.2032450437545776,\n",
              "  1.1718319654464722,\n",
              "  1.139020323753357,\n",
              "  1.1109814643859863,\n",
              "  1.0859143733978271,\n",
              "  1.0597039461135864,\n",
              "  1.0386658906936646,\n",
              "  1.0185675621032715,\n",
              "  0.9977476000785828,\n",
              "  0.9786792993545532,\n",
              "  0.9621101021766663,\n",
              "  0.9444660544395447,\n",
              "  0.9297191500663757,\n",
              "  0.9147767424583435,\n",
              "  0.9019635319709778,\n",
              "  0.8880701661109924,\n",
              "  0.8767853379249573,\n",
              "  0.8644788861274719,\n",
              "  0.8539593815803528,\n",
              "  0.8431105017662048,\n",
              "  0.8337172269821167,\n",
              "  0.824077308177948,\n",
              "  0.8152389526367188,\n",
              "  0.805831789970398,\n",
              "  0.7987974882125854,\n",
              "  0.7900019884109497,\n",
              "  0.7843809127807617,\n",
              "  0.7751363515853882,\n",
              "  0.7702909111976624,\n",
              "  0.7630046606063843,\n",
              "  0.7579132318496704,\n",
              "  0.750232994556427,\n",
              "  0.7443171143531799,\n",
              "  0.7371045351028442,\n",
              "  0.7297185659408569,\n",
              "  0.7223400473594666,\n",
              "  0.7166736125946045,\n",
              "  0.7118555903434753,\n",
              "  0.706652045249939,\n",
              "  0.700597882270813,\n",
              "  0.6958127617835999,\n",
              "  0.691067636013031,\n",
              "  0.6868178248405457,\n",
              "  0.6821051239967346,\n",
              "  0.6773038506507874,\n",
              "  0.672478437423706,\n",
              "  0.6679738163948059,\n",
              "  0.6635568141937256,\n",
              "  0.6591464281082153,\n",
              "  0.6541310548782349,\n",
              "  0.6500038504600525,\n",
              "  0.646639883518219,\n",
              "  0.6429601907730103,\n",
              "  0.6394151449203491,\n",
              "  0.6367520093917847,\n",
              "  0.6330526471138,\n",
              "  0.62947678565979,\n",
              "  0.6263663172721863,\n",
              "  0.6228821277618408,\n",
              "  0.6206075549125671,\n",
              "  0.619153618812561,\n",
              "  0.6173142790794373,\n",
              "  0.61435467004776,\n",
              "  0.612579345703125,\n",
              "  0.609643816947937,\n",
              "  0.6075576543807983,\n",
              "  0.6050089597702026,\n",
              "  0.602535605430603,\n",
              "  0.6003921627998352,\n",
              "  0.5971587896347046,\n",
              "  0.5959993004798889,\n",
              "  0.592910647392273,\n",
              "  0.5912840366363525],\n",
              " 'val_accuracy': [0.10000000149011612,\n",
              "  0.2083333283662796,\n",
              "  0.23333333432674408,\n",
              "  0.2666666805744171,\n",
              "  0.2750000059604645,\n",
              "  0.32499998807907104,\n",
              "  0.24166665971279144,\n",
              "  0.32499998807907104,\n",
              "  0.25,\n",
              "  0.3083333373069763,\n",
              "  0.38333332538604736,\n",
              "  0.375,\n",
              "  0.34166666865348816,\n",
              "  0.4000000059604645,\n",
              "  0.34166666865348816,\n",
              "  0.4333333373069763,\n",
              "  0.4833333194255829,\n",
              "  0.44999998807907104,\n",
              "  0.46666666865348816,\n",
              "  0.5166666507720947,\n",
              "  0.5249999761581421,\n",
              "  0.49166667461395264,\n",
              "  0.5249999761581421,\n",
              "  0.5333333611488342,\n",
              "  0.5249999761581421,\n",
              "  0.5583333373069763,\n",
              "  0.5583333373069763,\n",
              "  0.5583333373069763,\n",
              "  0.5916666388511658,\n",
              "  0.6083333492279053,\n",
              "  0.625,\n",
              "  0.6166666746139526,\n",
              "  0.6499999761581421,\n",
              "  0.6416666507720947,\n",
              "  0.6499999761581421,\n",
              "  0.6499999761581421,\n",
              "  0.6666666865348816,\n",
              "  0.6583333611488342,\n",
              "  0.6666666865348816,\n",
              "  0.6499999761581421,\n",
              "  0.6583333611488342,\n",
              "  0.6499999761581421,\n",
              "  0.6583333611488342,\n",
              "  0.6666666865348816,\n",
              "  0.6666666865348816,\n",
              "  0.6666666865348816,\n",
              "  0.675000011920929,\n",
              "  0.675000011920929,\n",
              "  0.6833333373069763,\n",
              "  0.699999988079071,\n",
              "  0.699999988079071,\n",
              "  0.7083333134651184,\n",
              "  0.699999988079071,\n",
              "  0.7083333134651184,\n",
              "  0.7083333134651184,\n",
              "  0.699999988079071,\n",
              "  0.7083333134651184,\n",
              "  0.699999988079071,\n",
              "  0.7166666388511658,\n",
              "  0.7250000238418579,\n",
              "  0.7333333492279053,\n",
              "  0.7250000238418579,\n",
              "  0.75,\n",
              "  0.75,\n",
              "  0.75,\n",
              "  0.7583333253860474,\n",
              "  0.75,\n",
              "  0.75,\n",
              "  0.75,\n",
              "  0.7416666746139526,\n",
              "  0.7416666746139526,\n",
              "  0.7416666746139526,\n",
              "  0.7416666746139526,\n",
              "  0.75,\n",
              "  0.7583333253860474,\n",
              "  0.75,\n",
              "  0.75,\n",
              "  0.7416666746139526,\n",
              "  0.7666666507720947,\n",
              "  0.7666666507720947,\n",
              "  0.7749999761581421,\n",
              "  0.7749999761581421,\n",
              "  0.7749999761581421,\n",
              "  0.7749999761581421,\n",
              "  0.7749999761581421,\n",
              "  0.7749999761581421,\n",
              "  0.7749999761581421,\n",
              "  0.7749999761581421,\n",
              "  0.7666666507720947,\n",
              "  0.7666666507720947,\n",
              "  0.7666666507720947,\n",
              "  0.7666666507720947,\n",
              "  0.7666666507720947,\n",
              "  0.7666666507720947,\n",
              "  0.7749999761581421,\n",
              "  0.7749999761581421,\n",
              "  0.7666666507720947,\n",
              "  0.7666666507720947,\n",
              "  0.7666666507720947,\n",
              "  0.7666666507720947]}"
            ]
          },
          "execution_count": 65,
          "metadata": {},
          "output_type": "execute_result"
        }
      ],
      "source": [
        "history.history"
      ]
    },
    {
      "cell_type": "code",
      "execution_count": null,
      "metadata": {
        "id": "wJeAR6av5OHH",
        "outputId": "042c54c3-8020-4dd4-ac61-200f3533e915"
      },
      "outputs": [
        {
          "data": {
            "text/plain": [
              "[Text(0, 0.5, 'Accuracy'), Text(0.5, 0, 'Epoch')]"
            ]
          },
          "execution_count": 66,
          "metadata": {},
          "output_type": "execute_result"
        },
        {
          "data": {
            "image/png": "[encoded data removed]",
            "text/plain": [
              "<Figure size 864x576 with 1 Axes>"
            ]
          },
          "metadata": {
            "needs_background": "light"
          },
          "output_type": "display_data"
        },
        {
          "data": {
            "image/png": "[encoded data removed]",
            "text/plain": [
              "<Figure size 864x576 with 1 Axes>"
            ]
          },
          "metadata": {
            "needs_background": "light"
          },
          "output_type": "display_data"
        }
      ],
      "source": [
        "# The history.history[\"loss\"] entry is a dictionary with as many values as epochs that the\n",
        "# model was trained on.\n",
        "df_loss_acc = pd.DataFrame(history.history)\n",
        "df_loss= df_loss_acc[['loss','val_loss']]\n",
        "df_loss.rename(columns={'loss':'train','val_loss':'validation'},inplace=True)\n",
        "df_acc= df_loss_acc[['accuracy','val_accuracy']]\n",
        "df_acc.rename(columns={'accuracy':'train','val_accuracy':'validation'},inplace=True)\n",
        "df_loss.plot(title='Model loss',figsize=(12,8)).set(xlabel='Epoch',ylabel='Loss')\n",
        "df_acc.plot(title='Model Accuracy',figsize=(12,8)).set(xlabel='Epoch',ylabel='Accuracy')"
      ]
    }
  ],
  "metadata": {
    "coursera": {
      "course_slug": "convolutional-neural-networks",
      "graded_item_id": "bwbJV",
      "launcher_item_id": "0TkXB"
    },
    "kernelspec": {
      "display_name": "Python 3",
      "language": "python",
      "name": "python3"
    },
    "language_info": {
      "codemirror_mode": {
        "name": "ipython",
        "version": 3
      },
      "file_extension": ".py",
      "mimetype": "text/x-python",
      "name": "python",
      "nbconvert_exporter": "python",
      "pygments_lexer": "ipython3",
      "version": "3.7.6"
    },
    "colab": {
      "provenance": []
    }
  },
  "nbformat": 4,
  "nbformat_minor": 0
}